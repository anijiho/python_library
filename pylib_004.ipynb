{
  "nbformat": 4,
  "nbformat_minor": 0,
  "metadata": {
    "colab": {
      "private_outputs": true,
      "provenance": []
    },
    "kernelspec": {
      "name": "python3",
      "display_name": "Python 3"
    },
    "language_info": {
      "name": "python"
    }
  },
  "cells": [
    {
      "cell_type": "markdown",
      "source": [
        "#025"
      ],
      "metadata": {
        "id": "ErcVqic-ma8z"
      }
    },
    {
      "cell_type": "code",
      "execution_count": null,
      "metadata": {
        "id": "5QApZZh2lLh_"
      },
      "outputs": [],
      "source": [
        "data = [\n",
        "    {'name': '이민서', 'blood': 'O'},\n",
        "    {'name': '이영순', 'blood': 'B'},\n",
        "    {'name': '이상호', 'blood': 'AB'},\n",
        "    {'name': '김지민', 'blood': 'B'},\n",
        "    {'name': '최상현', 'blood': 'AB'},\n",
        "    {'name': '김지아', 'blood': 'A'},\n",
        "    {'name': '손우진', 'blood': 'A'},\n",
        "    {'name': '박은주', 'blood': 'A'}\n",
        "]"
      ]
    },
    {
      "cell_type": "code",
      "source": [
        "import operator\n",
        "data = sorted(data, key=operator.itemgetter('blood'))"
      ],
      "metadata": {
        "id": "qxqxCBy4nwvR"
      },
      "execution_count": null,
      "outputs": []
    },
    {
      "cell_type": "code",
      "source": [
        "import pprint\n",
        "pprint.pprint(data)"
      ],
      "metadata": {
        "id": "PNrtIda2n1rx"
      },
      "execution_count": null,
      "outputs": []
    },
    {
      "cell_type": "code",
      "source": [
        "import itertools\n",
        "grouped_data = itertools.groupby(data, key=operator.itemgetter('blood'))\n",
        "\n",
        "import pprint\n",
        "pprint.pprint(data)"
      ],
      "metadata": {
        "id": "dlsQv2L9ouWr"
      },
      "execution_count": null,
      "outputs": []
    },
    {
      "cell_type": "code",
      "source": [
        "result = {}\n",
        "for key, group_data in grouped_data:\n",
        "  result[key] = list(group_data)"
      ],
      "metadata": {
        "id": "3C_zhBzhpIG1"
      },
      "execution_count": null,
      "outputs": []
    },
    {
      "cell_type": "code",
      "source": [
        "pprint.pprint(result)"
      ],
      "metadata": {
        "id": "bolp9_QKpO5M"
      },
      "execution_count": null,
      "outputs": []
    },
    {
      "cell_type": "code",
      "source": [
        "data = [\n",
        "    {'name': '이민서', 'blood': 'O'},\n",
        "    {'name': '이영순', 'blood': 'B'},\n",
        "    {'name': '이상호', 'blood': 'AB'},\n",
        "    {'name': '김지민', 'blood': 'B'},\n",
        "    {'name': '최상현', 'blood': 'AB'},\n",
        "    {'name': '김지아', 'blood': 'A'},\n",
        "    {'name': '손우진', 'blood': 'A'},\n",
        "    {'name': '박은주', 'blood': 'A'}\n",
        "]\n",
        "\n",
        "grouped_data = itertools.groupby(data, key=operator.itemgetter('blood'))\n",
        "\n",
        "result = {}\n",
        "for key, group_data in grouped_data:\n",
        "  result[key] = list(group_data)\n",
        "\n",
        "pprint.pprint(result)"
      ],
      "metadata": {
        "id": "g5LJeh8Yp_P_"
      },
      "execution_count": null,
      "outputs": []
    },
    {
      "cell_type": "markdown",
      "source": [
        "#026"
      ],
      "metadata": {
        "id": "ZoulPnLOmcys"
      }
    },
    {
      "cell_type": "code",
      "source": [
        "import itertools\n",
        "\n",
        "students = ['한민서', '황지민', '이영철', '이광수', '김승민']\n",
        "rewards = ['사탕', '초컬릿', '젤리']\n",
        "\n",
        "result = itertools.zip_longest(students, rewards, fillvalue='새우깡')\n",
        "print(list(result))"
      ],
      "metadata": {
        "id": "NCBzmtgcq1i8"
      },
      "execution_count": null,
      "outputs": []
    },
    {
      "cell_type": "markdown",
      "source": [
        "#027"
      ],
      "metadata": {
        "id": "PVI3PemzrcSV"
      }
    },
    {
      "cell_type": "code",
      "source": [
        "import itertools\n",
        "list(itertools.permutations(['1', '2', '3'], 2))"
      ],
      "metadata": {
        "id": "HcMRgUucriTg"
      },
      "execution_count": null,
      "outputs": []
    },
    {
      "cell_type": "code",
      "source": [
        "for a, b in itertools.permutations(['1', '2', '3'], 2):\n",
        "  print(a+b)"
      ],
      "metadata": {
        "id": "LZzWJrAurjjW"
      },
      "execution_count": null,
      "outputs": []
    },
    {
      "cell_type": "code",
      "source": [
        "for a, b in itertools.combinations(['1', '2', '3'], 2):\n",
        "  print(a+b)"
      ],
      "metadata": {
        "id": "Lgl7Fxyis7i-"
      },
      "execution_count": null,
      "outputs": []
    },
    {
      "cell_type": "markdown",
      "source": [
        "#028"
      ],
      "metadata": {
        "id": "lKk9s81gtLEI"
      }
    },
    {
      "cell_type": "code",
      "source": [
        "import itertools\n",
        "it = itertools.combinations(range(1, 46), r = 6)"
      ],
      "metadata": {
        "id": "Gg1NFr5Hs-8G"
      },
      "execution_count": null,
      "outputs": []
    },
    {
      "cell_type": "code",
      "source": [
        "len(list(itertools.combinations(range(1, 46), 6)))"
      ],
      "metadata": {
        "id": "xlEXUrR3tRbb"
      },
      "execution_count": null,
      "outputs": []
    },
    {
      "cell_type": "markdown",
      "source": [
        "#029"
      ],
      "metadata": {
        "id": "2xnUMgPewVA4"
      }
    },
    {
      "cell_type": "code",
      "source": [
        "import functools\n",
        "\n",
        "def xy_compare(n1, n2):\n",
        "    if n1[1] > n2[1]:         # y 좌표가 크면\n",
        "        return 1\n",
        "    elif n1[1] == n2[1]:      # y 좌표가 같으면\n",
        "        if n1[0] > n2[0]:     # x 좌표가 크면\n",
        "            return 1\n",
        "        elif n1[0] == n2[0]:  # x 좌표가 같으면\n",
        "            return 0\n",
        "        else:                 # x 좌표가 작으면\n",
        "            return -1\n",
        "    else:                     # y 좌표가 작으면\n",
        "        return -1\n",
        "\n",
        "src = [(0, 4), (1, 2), (1, -1), (2, 2), (3, 3)]\n",
        "result = sorted(src, key=functools.cmp_to_key(xy_compare))\n",
        "print(result)"
      ],
      "metadata": {
        "id": "k1f7lbk3wWDg"
      },
      "execution_count": null,
      "outputs": []
    },
    {
      "cell_type": "markdown",
      "source": [
        "#030"
      ],
      "metadata": {
        "id": "oTD2bDwE2DHX"
      }
    },
    {
      "cell_type": "code",
      "source": [
        "import urllib.request\n",
        "\n",
        "def get_wikidocs(page):\n",
        "    print(\"wikidocs page:{}\".format(page))  # 페이지 호출시 출력\n",
        "    resource = 'https://wikidocs.net/{}'.format(page)\n",
        "    try:\n",
        "        with urllib.request.urlopen(resource) as s:\n",
        "            return s.read()\n",
        "    except urllib.error.HTTPError:\n",
        "        return 'Not Found'"
      ],
      "metadata": {
        "id": "f113Fmdy2ECA"
      },
      "execution_count": null,
      "outputs": []
    },
    {
      "cell_type": "code",
      "source": [
        "pprint.pprint(get_wikidocs(2))"
      ],
      "metadata": {
        "id": "QO6VSu3p2nih"
      },
      "execution_count": null,
      "outputs": []
    },
    {
      "cell_type": "code",
      "source": [
        "import urllib.request\n",
        "from functools import lru_cache\n",
        "\n",
        "\n",
        "@lru_cache(maxsize=32)\n",
        "def get_wikidocs(page):\n",
        "    print(\"wikidocs page:{}\".format(page))  # 페이지 호출시 출력\n",
        "    resource = 'https://wikidocs.net/{}'.format(page)\n",
        "    try:\n",
        "        with urllib.request.urlopen(resource) as s:\n",
        "            return s.read()\n",
        "    except urllib.error.HTTPError:\n",
        "        return 'Not Found'\n",
        "\n",
        "\n",
        "first_6 = get_wikidocs(6)"
      ],
      "metadata": {
        "id": "zDixdYWJ2qVr"
      },
      "execution_count": null,
      "outputs": []
    },
    {
      "cell_type": "code",
      "source": [
        "second6 = get_wikidocs(6)"
      ],
      "metadata": {
        "id": "2lmDz3pM3h1j"
      },
      "execution_count": null,
      "outputs": []
    },
    {
      "cell_type": "code",
      "source": [
        "thrid6 = get_wikidocs(6)"
      ],
      "metadata": {
        "id": "3_9l179L3kxY"
      },
      "execution_count": null,
      "outputs": []
    },
    {
      "cell_type": "code",
      "source": [
        "assert first_6 == second6 "
      ],
      "metadata": {
        "id": "Vb_37n7S3qTv"
      },
      "execution_count": null,
      "outputs": []
    },
    {
      "cell_type": "code",
      "source": [
        "assert thrid6 == second6 "
      ],
      "metadata": {
        "id": "CW53RnLK3u1R"
      },
      "execution_count": null,
      "outputs": []
    },
    {
      "cell_type": "markdown",
      "source": [
        "#031"
      ],
      "metadata": {
        "id": "l_Tvj8dH5Oe3"
      }
    },
    {
      "cell_type": "code",
      "source": [
        "def add_mul(choice, *args):\n",
        "    if choice == \"add\":\n",
        "        result = 0\n",
        "        for i in args:\n",
        "            result = result + i\n",
        "    elif choice == \"mul\":\n",
        "        result = 1\n",
        "        for i in args:\n",
        "            result = result * i\n",
        "    return result"
      ],
      "metadata": {
        "id": "jDXAJx9i3zFZ"
      },
      "execution_count": null,
      "outputs": []
    },
    {
      "cell_type": "code",
      "source": [
        "add(1, 2, 3, 4, 5)\n",
        "mul(1, 2, 3, 4, 5)"
      ],
      "metadata": {
        "id": "1QpYSzQk5Tiw"
      },
      "execution_count": null,
      "outputs": []
    },
    {
      "cell_type": "code",
      "source": [
        "def add_mul(choice, *args):\n",
        "    if choice == \"add\":\n",
        "        result = 0\n",
        "        for i in args:\n",
        "            result = result + i\n",
        "    elif choice == \"mul\":\n",
        "        result = 1\n",
        "        for i in args:\n",
        "            result = result * i\n",
        "    return result\n",
        "\n",
        "def add(*args):\n",
        "    return add_mul('add', *args)\n",
        "\n",
        "def mul(*args):\n",
        "    return add_mul('mul', *args)  "
      ],
      "metadata": {
        "id": "52nxolQD5a-C"
      },
      "execution_count": null,
      "outputs": []
    },
    {
      "cell_type": "code",
      "source": [
        "from functools import partial\n",
        "\n",
        "def add_mul(choice, *args):\n",
        "    if choice == \"add\":\n",
        "        result = 0\n",
        "        for i in args:\n",
        "            result = result + i\n",
        "    elif choice == \"mul\":\n",
        "        result = 1\n",
        "        for i in args:\n",
        "            result = result * i\n",
        "    return result\n",
        "\n",
        "\n",
        "add = partial(add_mul, 'add') # add mul 에 \n",
        "mul = partial(add_mul, 'mul')\n",
        "\n",
        "print(add(1,2,3,4,5)) \n",
        "print(mul(1,2,3,4,5))"
      ],
      "metadata": {
        "id": "CgyHFTjX5wD8"
      },
      "execution_count": null,
      "outputs": []
    },
    {
      "cell_type": "markdown",
      "source": [
        "#032"
      ],
      "metadata": {
        "id": "M761ROsn7bxh"
      }
    },
    {
      "cell_type": "code",
      "source": [
        "def add(data):\n",
        "    result = 0\n",
        "    for i in data:\n",
        "        result += i\n",
        "    return result\n",
        "\n",
        "\n",
        "data = [1, 2, 3, 4, 5]\n",
        "result = add(data)\n",
        "print(result)  "
      ],
      "metadata": {
        "id": "qOK5SiPP7dGK"
      },
      "execution_count": null,
      "outputs": []
    },
    {
      "cell_type": "code",
      "source": [
        "import functools\n",
        "\n",
        "data = [1, 2, 3, 4, 5]\n",
        "result = functools.reduce(lambda x, y: x + y, data)\n",
        "print(result)  \n"
      ],
      "metadata": {
        "id": "ZGqYf3SC8wlF"
      },
      "execution_count": null,
      "outputs": []
    },
    {
      "cell_type": "markdown",
      "source": [
        "#033"
      ],
      "metadata": {
        "id": "os4YbT-e-5un"
      }
    },
    {
      "cell_type": "code",
      "source": [
        "import time\n",
        "\n",
        "\n",
        "def elapsed(original_func):\n",
        "  @functools.wraps(original_func) # 객체 아이디를 확인 하게 해줌 데코레이터를 추가한 어떤 함수들이 다른 함수의 입력으로 사용될 수 있는데 wrap이 된 함수가 참조되어 버리면 원하는 결과를 얻지 못하기 때문에 데코레이터는 중요하다.\n",
        "  def wrapper(*args, **kwargs):\n",
        "      start = time.time()\n",
        "      result = original_func(*args, **kwargs)\n",
        "      end = time.time()\n",
        "      print(\"함수 수행시간: %f 초\" % (end - start))\n",
        "      return result\n",
        "\n",
        "  return wrapper\n",
        "\n",
        "\n",
        "@elapsed\n",
        "def add(a, b):\n",
        "    \"\"\" 두 수 a, b를 더한값을 리턴하는 함수 \"\"\"\n",
        "    return a + b\n",
        "\n",
        "@elapsed\n",
        "def factorial(n):\n",
        "  if n == 1:\n",
        "    return 1\n",
        "  else:\n",
        "    return n * factorial(n-1)\n",
        "\n",
        "result = add(3, 4)"
      ],
      "metadata": {
        "id": "FGmETcTl8zqs"
      },
      "execution_count": null,
      "outputs": []
    },
    {
      "cell_type": "code",
      "source": [
        "print(add)"
      ],
      "metadata": {
        "id": "3mquRsIXAE8T"
      },
      "execution_count": null,
      "outputs": []
    },
    {
      "cell_type": "code",
      "source": [
        "help(add)"
      ],
      "metadata": {
        "id": "UrzFzGXjAasc"
      },
      "execution_count": null,
      "outputs": []
    },
    {
      "cell_type": "markdown",
      "source": [
        "#034"
      ],
      "metadata": {
        "id": "dcRpEZdJBIn7"
      }
    },
    {
      "cell_type": "code",
      "source": [
        "from operator import itemgetter\n",
        "\n",
        "students = [\n",
        "    (\"jane\", 22, 'A'),\n",
        "    (\"dave\", 32, 'B'),\n",
        "    (\"sally\", 17, 'B'),\n",
        "]\n",
        "\n",
        "result = sorted(students, key=itemgetter(1))\n",
        "print(result)"
      ],
      "metadata": {
        "id": "kUtuTfuvAbxc"
      },
      "execution_count": null,
      "outputs": []
    },
    {
      "cell_type": "code",
      "source": [
        "result = sorted(students, key=itemgetter(2))\n",
        "print(result)"
      ],
      "metadata": {
        "id": "udXyQG_JBz0d"
      },
      "execution_count": null,
      "outputs": []
    },
    {
      "cell_type": "code",
      "source": [
        "from operator import itemgetter\n",
        "\n",
        "students = [\n",
        "    {\"name\": \"jane\", \"age\": 22, \"grade\": 'A'},\n",
        "    {\"name\": \"dave\", \"age\": 32, \"grade\": 'B'},\n",
        "    {\"name\": \"sally\", \"age\": 17, \"grade\": 'B'},\n",
        "]\n",
        "\n",
        "result = sorted(students, key=itemgetter('age'))\n",
        "print(result)"
      ],
      "metadata": {
        "id": "paZVJvkUB07Y"
      },
      "execution_count": null,
      "outputs": []
    },
    {
      "cell_type": "code",
      "source": [
        "result = sorted(students, key=itemgetter('grade'))\n",
        "print(result)"
      ],
      "metadata": {
        "id": "sa5TrNgJCKPZ"
      },
      "execution_count": null,
      "outputs": []
    },
    {
      "cell_type": "code",
      "source": [
        "from operator import attrgetter\n",
        "\n",
        "class Student:\n",
        "    def __init__(self, name, age, grade):\n",
        "        self.name = name\n",
        "        self.age = age\n",
        "        self.grade = grade\n",
        "\n",
        "\n",
        "students = [\n",
        "    Student('jane', 22, 'A'),\n",
        "    Student('dave', 32, 'B'),\n",
        "    Student('sally', 17, 'B'),\n",
        "]\n",
        "\n",
        "result = sorted(students, key=attrgetter('age'))\n",
        "print(result)"
      ],
      "metadata": {
        "id": "hDULfwc8CMGZ"
      },
      "execution_count": null,
      "outputs": []
    }
  ]
}
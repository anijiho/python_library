{
  "nbformat": 4,
  "nbformat_minor": 0,
  "metadata": {
    "colab": {
      "private_outputs": true,
      "provenance": []
    },
    "kernelspec": {
      "name": "python3",
      "display_name": "Python 3"
    },
    "language_info": {
      "name": "python"
    }
  },
  "cells": [
    {
      "cell_type": "markdown",
      "source": [
        "#017"
      ],
      "metadata": {
        "id": "zMmVUjTv02YG"
      }
    },
    {
      "cell_type": "code",
      "execution_count": null,
      "metadata": {
        "id": "p0wCWOmO00AT"
      },
      "outputs": [],
      "source": [
        "import math\n",
        "math.gcd(60, 100, 80)\n",
        "60/20, 100/20, 80/20"
      ]
    },
    {
      "cell_type": "markdown",
      "source": [
        "#018"
      ],
      "metadata": {
        "id": "K4vAkT-t1IbV"
      }
    },
    {
      "cell_type": "code",
      "source": [
        "import math\n",
        "math.lcm(15, 25)"
      ],
      "metadata": {
        "id": "mBO_bdAl1JTy"
      },
      "execution_count": null,
      "outputs": []
    },
    {
      "cell_type": "markdown",
      "source": [
        "#019"
      ],
      "metadata": {
        "id": "4SciLx8J1YLl"
      }
    },
    {
      "cell_type": "code",
      "source": [
        "import math\n",
        "math.isclose(0.1*3, 0.3)"
      ],
      "metadata": {
        "id": "ZFbZnV5D1ZQ3"
      },
      "execution_count": null,
      "outputs": []
    },
    {
      "cell_type": "code",
      "source": [
        "from decimal import Decimal\n",
        "Decimal('0.1') * 3\n",
        "Decimal('1.2') - Decimal('0.1')\n",
        "Decimal('0.1') * Decimal('0.1')"
      ],
      "metadata": {
        "id": "E9uTq0xK1bA2"
      },
      "execution_count": null,
      "outputs": []
    },
    {
      "cell_type": "code",
      "source": [
        "float(Decimal('1.2') - Decimal('0.1')) == 1.1"
      ],
      "metadata": {
        "id": "VBTWoAbL1pi1"
      },
      "execution_count": null,
      "outputs": []
    },
    {
      "cell_type": "markdown",
      "source": [
        "#020"
      ],
      "metadata": {
        "id": "TCT2780-1qP4"
      }
    },
    {
      "cell_type": "code",
      "source": [
        "from fractions import Fraction"
      ],
      "metadata": {
        "id": "QWc8sutz1p3q"
      },
      "execution_count": null,
      "outputs": []
    },
    {
      "cell_type": "code",
      "source": [
        "a = Fraction('1/5')\n",
        "a\n"
      ],
      "metadata": {
        "id": "vWY5iwj213eV"
      },
      "execution_count": null,
      "outputs": []
    },
    {
      "cell_type": "code",
      "source": [
        "a.numerator"
      ],
      "metadata": {
        "id": "YBfoSctt2Dbn"
      },
      "execution_count": null,
      "outputs": []
    },
    {
      "cell_type": "code",
      "source": [
        "a.denominator"
      ],
      "metadata": {
        "id": "e2ovHv4a17IZ"
      },
      "execution_count": null,
      "outputs": []
    },
    {
      "cell_type": "code",
      "source": [
        "result = Fraction(1, 5)+Fraction(2, 5)\n",
        "result"
      ],
      "metadata": {
        "id": "YUtvxy772Apw"
      },
      "execution_count": null,
      "outputs": []
    },
    {
      "cell_type": "markdown",
      "source": [
        "#021"
      ],
      "metadata": {
        "id": "nd8rpxDx2MJl"
      }
    },
    {
      "cell_type": "code",
      "source": [
        "import random\n",
        "\n",
        "result = []\n",
        "while len(result) < 6:\n",
        "    num = random.randint(1, 45)  \n",
        "    if num not in result:  \n",
        "        result.append(num)\n",
        "\n",
        "print(result)  "
      ],
      "metadata": {
        "id": "QQrB8XT62Iw_"
      },
      "execution_count": null,
      "outputs": []
    },
    {
      "cell_type": "markdown",
      "source": [
        "#022"
      ],
      "metadata": {
        "id": "iPpBEabb2Tvm"
      }
    },
    {
      "cell_type": "code",
      "source": [
        "import statistics\n",
        "marks = [78, 93, 99, 95, 51, 71, 52, 43, 81, 78]\n",
        "statistics.mean(marks)"
      ],
      "metadata": {
        "id": "eMo8_JKC2Uxc"
      },
      "execution_count": null,
      "outputs": []
    },
    {
      "cell_type": "code",
      "source": [
        "statistics.median(marks)"
      ],
      "metadata": {
        "id": "_9adC8jG2W0O"
      },
      "execution_count": null,
      "outputs": []
    },
    {
      "cell_type": "markdown",
      "source": [
        "#023"
      ],
      "metadata": {
        "id": "hi5Accin2c60"
      }
    },
    {
      "cell_type": "code",
      "source": [
        "import itertools\n",
        "emp_pool = itertools.cycle(['김은경', '이명자', '이성진'])"
      ],
      "metadata": {
        "id": "_xQG2Yrj2cV-"
      },
      "execution_count": null,
      "outputs": []
    },
    {
      "cell_type": "code",
      "source": [
        "next(emp_pool)"
      ],
      "metadata": {
        "id": "_ybJ7TBq2j88"
      },
      "execution_count": null,
      "outputs": []
    },
    {
      "cell_type": "markdown",
      "source": [
        "#024"
      ],
      "metadata": {
        "id": "R6KsL8VS2qR-"
      }
    },
    {
      "cell_type": "code",
      "source": [
        "import itertools\n",
        "\n",
        "monthly_income = [1161, 1814, 1270, 2256, 1413, 1842, 2221, 2207, 2450, 2823, 2540, 2134]\n",
        "result = list(itertools.accumulate(monthly_income))\n",
        "\n",
        "print(result)"
      ],
      "metadata": {
        "id": "77Ow_HhU2rR_"
      },
      "execution_count": null,
      "outputs": []
    },
    {
      "cell_type": "code",
      "source": [],
      "metadata": {
        "id": "3TBwpOpT2rpe"
      },
      "execution_count": null,
      "outputs": []
    }
  ]
}
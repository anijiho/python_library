{
  "nbformat": 4,
  "nbformat_minor": 0,
  "metadata": {
    "colab": {
      "private_outputs": true,
      "provenance": []
    },
    "kernelspec": {
      "name": "python3",
      "display_name": "Python 3"
    },
    "language_info": {
      "name": "python"
    }
  },
  "cells": [
    {
      "cell_type": "markdown",
      "source": [
        "#009 리스트 안에 튜플 이름 붙이기 "
      ],
      "metadata": {
        "id": "f2HreHK2hxW9"
      }
    },
    {
      "cell_type": "code",
      "execution_count": null,
      "metadata": {
        "id": "xLtLxlQCftHr"
      },
      "outputs": [],
      "source": [
        "data = [\n",
        "    ('홍길동', 23, '01099990001'), \n",
        "    ('김철수', 31, '01099991002'), \n",
        "    ('이영희', 29, '01099992003'),\n",
        "]"
      ]
    },
    {
      "cell_type": "code",
      "source": [
        "from collections import namedtuple\n",
        "\n",
        "Employee = namedtuple('Employee','name,age,cellphone')"
      ],
      "metadata": {
        "id": "wM44-OgAh-06"
      },
      "execution_count": null,
      "outputs": []
    },
    {
      "cell_type": "code",
      "source": [
        "data = [Employee(emp[0],emp[1],emp[2])for emp in data] # emp에 앞 원소를 데이터로 넣고 싶다."
      ],
      "metadata": {
        "id": "SyusF0EoiSfN"
      },
      "execution_count": null,
      "outputs": []
    },
    {
      "cell_type": "code",
      "source": [
        "[i*100 for i in[1,2,3]] # 리스트 내포 1 2 3 을 돌면서 i 를 빼오고 이것을 원소로 사용하겠다."
      ],
      "metadata": {
        "id": "YBbHTn1liv4f"
      },
      "execution_count": null,
      "outputs": []
    },
    {
      "cell_type": "code",
      "source": [
        "data2 = [Employee._make(emp) for emp in data]\n",
        "data2"
      ],
      "metadata": {
        "id": "A4P-fazhi_cA"
      },
      "execution_count": null,
      "outputs": []
    },
    {
      "cell_type": "code",
      "source": [
        "emp = data[0]"
      ],
      "metadata": {
        "id": "R5FxxC0UjAO2"
      },
      "execution_count": null,
      "outputs": []
    },
    {
      "cell_type": "code",
      "source": [
        "emp.name"
      ],
      "metadata": {
        "id": "bSdVao0gjYxH"
      },
      "execution_count": null,
      "outputs": []
    },
    {
      "cell_type": "code",
      "source": [
        "emp.age"
      ],
      "metadata": {
        "id": "KI0dXCHyjaj4"
      },
      "execution_count": null,
      "outputs": []
    },
    {
      "cell_type": "code",
      "source": [
        "emp.cellphone"
      ],
      "metadata": {
        "id": "suzhvjPsjbXh"
      },
      "execution_count": null,
      "outputs": []
    },
    {
      "cell_type": "code",
      "source": [
        "emp[0]"
      ],
      "metadata": {
        "id": "YHgkZJ1_jdwF"
      },
      "execution_count": null,
      "outputs": []
    },
    {
      "cell_type": "code",
      "source": [
        "emp[1]"
      ],
      "metadata": {
        "id": "5XsZ9GG5jgFq"
      },
      "execution_count": null,
      "outputs": []
    },
    {
      "cell_type": "code",
      "source": [
        "emp[2]"
      ],
      "metadata": {
        "id": "i_0DzCRrjg86"
      },
      "execution_count": null,
      "outputs": []
    },
    {
      "cell_type": "code",
      "source": [
        "emp._asdict() # 딕셔너리 형태로 만들기"
      ],
      "metadata": {
        "id": "3j3k19F2jiIP"
      },
      "execution_count": null,
      "outputs": []
    },
    {
      "cell_type": "code",
      "source": [
        "data[0] = emp._replace(name = '안지호')"
      ],
      "metadata": {
        "id": "MFlvhXXzjpen"
      },
      "execution_count": null,
      "outputs": []
    },
    {
      "cell_type": "code",
      "source": [
        "data"
      ],
      "metadata": {
        "id": "88lBNN9skRr1"
      },
      "execution_count": null,
      "outputs": []
    },
    {
      "cell_type": "markdown",
      "source": [
        "#010 사용한 단어의 개수를 구하려면? 계수기"
      ],
      "metadata": {
        "id": "gTSZcuqtkmUC"
      }
    },
    {
      "cell_type": "code",
      "source": [
        "data = \"\"\"\n",
        "산에는 꽃 피네.\n",
        "꽃이 피네.\n",
        "갈 봄 여름없이\n",
        "꽃이 피네.\n",
        "\n",
        "산에\n",
        "산에\n",
        "피는 꽃은\n",
        "저만치 혼자서 피어있네.\n",
        "\n",
        "산에서 우는 새여\n",
        "꽃이 좋아\n",
        "산에서\n",
        "사노라네.\n",
        "\n",
        "산에는 꽃지네\n",
        "꽃이 지네.\n",
        "갈 봄 여름 없이\n",
        "꽃이 지네.\n",
        "\"\"\""
      ],
      "metadata": {
        "id": "yLYsKBuCkZ_m"
      },
      "execution_count": null,
      "outputs": []
    },
    {
      "cell_type": "code",
      "source": [
        "from collections import Counter\n",
        "import re\n",
        "\n",
        "words = re.findall('\\w+',data) # [a-zA-Z0~9_] 와 같은 의미  단어 단위 파씽 한글자로 된 단어를 찾고 싶다면 +를 지우고 {1}\\s을 하면 된다.\n",
        "words "
      ],
      "metadata": {
        "id": "CKcptNKglT4V"
      },
      "execution_count": null,
      "outputs": []
    },
    {
      "cell_type": "code",
      "source": [
        "counter = Counter(words)\n",
        "counter"
      ],
      "metadata": {
        "id": "rceNNU2tlU1X"
      },
      "execution_count": null,
      "outputs": []
    },
    {
      "cell_type": "code",
      "source": [
        "counter.most_common(3) # 가장 많이 나온 단어 출력"
      ],
      "metadata": {
        "id": "XI_jlnbxlzOj"
      },
      "execution_count": null,
      "outputs": []
    },
    {
      "cell_type": "markdown",
      "source": [
        "# 011 딕셔너리 한번에 초기화 하기"
      ],
      "metadata": {
        "id": "WBGLOx4dmvP_"
      }
    },
    {
      "cell_type": "code",
      "source": [
        "text = 'Life is too short, You need python'"
      ],
      "metadata": {
        "id": "s7JQ9zP0mY8P"
      },
      "execution_count": null,
      "outputs": []
    },
    {
      "cell_type": "code",
      "source": [
        "letters = re.findall('[a-zA-Z,.]{1}',text)\n",
        "letters"
      ],
      "metadata": {
        "id": "lWVAWfBPnJNs"
      },
      "execution_count": null,
      "outputs": []
    },
    {
      "cell_type": "code",
      "source": [
        "counter = Counter(letters)"
      ],
      "metadata": {
        "id": "0W-lsyfanTKJ"
      },
      "execution_count": null,
      "outputs": []
    },
    {
      "cell_type": "code",
      "source": [
        "text = 'Life is too short, You need python'\n",
        "\n",
        "d = dict()\n",
        "for key in text:\n",
        "  if key not in d: # 해당 키가 딕셔너리에 없다면\n",
        "    d[key] = 0\n",
        "  d[key] = d[key] +1\n",
        "\n",
        "d"
      ],
      "metadata": {
        "id": "-hYtUz1snotj"
      },
      "execution_count": null,
      "outputs": []
    },
    {
      "cell_type": "code",
      "source": [
        "from collections import defaultdict\n",
        "\n",
        "text = \"Life is too short, You need python.\"\n",
        "\n",
        "d = defaultdict(int) # 0으로 바로 초기화 해준다. 또한 디폴트 딕셔너리 이기 때문에 결과값을 출력해주는 경우 형변환을 해줘야 하는 특징이 있다.\n",
        "for key in text:\n",
        "    d[key] += 1\n",
        "\n",
        "print(dict(d)) # 딕셔너리로 다시 형변환을 거쳐야 한다."
      ],
      "metadata": {
        "id": "H5qqy-QJn1Q6"
      },
      "execution_count": null,
      "outputs": []
    },
    {
      "cell_type": "markdown",
      "source": [
        "#012 수상자 3명을 선정하려면?"
      ],
      "metadata": {
        "id": "QjqM4OQao29Q"
      }
    },
    {
      "cell_type": "code",
      "source": [
        "data = [\n",
        "    (12.23, \"강보람\"),\n",
        "    (12.31, \"김지원\"),\n",
        "    (11.98, \"박시우\"),\n",
        "    (11.99, \"장준혁\"),\n",
        "    (11.67, \"차정웅\"),\n",
        "    (12.02, \"박중수\"),\n",
        "    (11.57, \"차동현\"),\n",
        "    (12.04, \"고미숙\"),\n",
        "    (11.92, \"한시우\"),\n",
        "    (12.22, \"이민석\"),\n",
        "]"
      ],
      "metadata": {
        "id": "CFGKfJOloxo4"
      },
      "execution_count": null,
      "outputs": []
    },
    {
      "cell_type": "code",
      "source": [
        "import heapq\n",
        "h =[]\n",
        "for score in data:\n",
        "  heapq.heappush(h,score)\n",
        "\n",
        "h # 제일 작은값이 위로 오게 정렬"
      ],
      "metadata": {
        "id": "YFuKsMWcqn_C"
      },
      "execution_count": null,
      "outputs": []
    },
    {
      "cell_type": "code",
      "source": [
        "heapq.heappop(h)"
      ],
      "metadata": {
        "id": "WUVWgdHMq3Wb"
      },
      "execution_count": null,
      "outputs": []
    },
    {
      "cell_type": "code",
      "source": [
        "heapq.heappop(h)"
      ],
      "metadata": {
        "id": "xOUykn_9rJBx"
      },
      "execution_count": null,
      "outputs": []
    },
    {
      "cell_type": "code",
      "source": [
        "heapq.heappop(h)"
      ],
      "metadata": {
        "id": "23qAr-vDrMoP"
      },
      "execution_count": null,
      "outputs": []
    },
    {
      "cell_type": "code",
      "source": [
        "h"
      ],
      "metadata": {
        "id": "9uLDbR6irN6Q"
      },
      "execution_count": null,
      "outputs": []
    },
    {
      "cell_type": "code",
      "source": [
        "for i in range(3):\n",
        "  print(heapq.heappop(h))"
      ],
      "metadata": {
        "id": "EwkIaoborOPG"
      },
      "execution_count": null,
      "outputs": []
    },
    {
      "cell_type": "code",
      "source": [
        "import heapq\n",
        "\n",
        "data = [\n",
        "    (12.23, \"강보람\"),\n",
        "    (12.31, \"김지원\"),\n",
        "    (11.98, \"박시우\"),\n",
        "    (11.99, \"장준혁\"),\n",
        "    (11.67, \"차정웅\"),\n",
        "    (12.02, \"박중수\"),\n",
        "    (11.57, \"차동현\"),\n",
        "    (12.04, \"고미숙\"),\n",
        "    (11.92, \"한시우\"),\n",
        "    (12.22, \"이민석\"),\n",
        "]\n",
        "\n",
        "heapq.heapify(data)  # data를 힙 구조에 맞게 변경. 트리\n",
        "\n",
        "for i in range(3):\n",
        "    print(heapq.heappop(data))  "
      ],
      "metadata": {
        "id": "NaGqSRbarvRq"
      },
      "execution_count": null,
      "outputs": []
    },
    {
      "cell_type": "code",
      "source": [
        "import heapq\n",
        "\n",
        "data = [\n",
        "    (12.23, \"강보람\"),\n",
        "    (12.31, \"김지원\"),\n",
        "    (11.98, \"박시우\"),\n",
        "    (11.99, \"장준혁\"),\n",
        "    (11.67, \"차정웅\"),\n",
        "    (12.02, \"박중수\"),\n",
        "    (11.57, \"차동현\"),\n",
        "    (12.04, \"고미숙\"),\n",
        "    (11.92, \"한시우\"),\n",
        "    (12.22, \"이민석\"),\n",
        "]\n",
        "\n",
        "print(heapq.nsmallest(3, data))"
      ],
      "metadata": {
        "id": "zNf4RubktMMN"
      },
      "execution_count": null,
      "outputs": []
    },
    {
      "cell_type": "markdown",
      "source": [
        "#013 데이터를 보기 좋게 출력하려면?"
      ],
      "metadata": {
        "id": "NjDrCUqAtj5r"
      }
    },
    {
      "cell_type": "code",
      "source": [
        "import pprint"
      ],
      "metadata": {
        "id": "kHZWq0e1tm5l"
      },
      "execution_count": null,
      "outputs": []
    },
    {
      "cell_type": "code",
      "source": [
        "result = {'userId': 1, 'id': 1, 'title': 'sunt aut facere repellat provident occaecati excepturi optio reprehenderit', 'body': 'quia et suscipit\\nsuscipit recusandae consequuntur expedita et cum\\nreprehenderit molestiae ut ut quas totam\\nnostrum rerum est autem sunt rem eveniet architecto'}\n",
        "\n",
        "pprint.pprint(result)"
      ],
      "metadata": {
        "id": "ePeEGPZmt1FV"
      },
      "execution_count": null,
      "outputs": []
    },
    {
      "cell_type": "markdown",
      "source": [
        "#014 점수에 따른 학점을 구하려면?\n",
        "- 이진 탐색 알고리즘을 구현한 모듈"
      ],
      "metadata": {
        "id": "0T70smo0zubJ"
      }
    },
    {
      "cell_type": "code",
      "source": [
        "import bisect\n",
        "\n",
        "result = []\n",
        "for score in [33, 99, 77, 70, 89, 90, 100]:\n",
        "    pos = bisect.bisect_left([60, 70, 80, 90], score) \n",
        "    grade = 'FDCBA'[pos]\n",
        "    result.append(grade)\n",
        "\n",
        "print(result)"
      ],
      "metadata": {
        "id": "B7eOg8Xmt4DL"
      },
      "execution_count": null,
      "outputs": []
    },
    {
      "cell_type": "code",
      "source": [
        "import bisect\n",
        "a = [60, 70, 80, 90]\n",
        "bisect.insort(a, 85)\n",
        "a"
      ],
      "metadata": {
        "id": "qKN9DkyG2ev6"
      },
      "execution_count": null,
      "outputs": []
    },
    {
      "cell_type": "markdown",
      "source": [
        "#015 숫자에 이름을 붙여 사용하려면?"
      ],
      "metadata": {
        "id": "aduQG7Gl3AYM"
      }
    },
    {
      "cell_type": "code",
      "source": [
        "from datetime import date\n",
        "from enum import IntEnum\n",
        "\n",
        "\n",
        "class Week(IntEnum):\n",
        "    MONDAY = 1\n",
        "    TUESDAY = 2\n",
        "    WEDNESDAY = 3\n",
        "    THURSDAY = 4\n",
        "    FRIDAY = 5\n",
        "    SATURDAY = 6\n",
        "    SUNDAY = 7\n",
        "\n",
        "\n",
        "def get_menu(input_date):\n",
        "    menu = {\n",
        "        Week.MONDAY: \"김치찌개\",\n",
        "        Week.TUESDAY: \"비빔밥\",\n",
        "        Week.WEDNESDAY: \"된장찌개\",\n",
        "        Week.THURSDAY: \"불고기\",\n",
        "        Week.FRIDAY: \"갈비탕\",\n",
        "        Week.SATURDAY: \"라면\",\n",
        "        Week.SUNDAY: \"건빵\",\n",
        "    }\n",
        "    return menu[input_date.isoweekday()]\n",
        "\n",
        "\n",
        "print(get_menu(date.today()))\n"
      ],
      "metadata": {
        "id": "evuizZeM25xf"
      },
      "execution_count": null,
      "outputs": []
    },
    {
      "cell_type": "code",
      "source": [
        "for week in Week:\n",
        "    print(\"{}:{}\".format(week.name, week.value))"
      ],
      "metadata": {
        "id": "oTt1bu9k51Dv"
      },
      "execution_count": null,
      "outputs": []
    },
    {
      "cell_type": "markdown",
      "source": [
        "#016"
      ],
      "metadata": {
        "id": "a81dc5L19bwM"
      }
    },
    {
      "cell_type": "code",
      "source": [
        "from graphlib import TopologicalSorter # 위상정렬 import\n",
        "\n",
        "ts = TopologicalSorter()\n",
        "\n",
        "# 규칙1\n",
        "ts.add('중급', '초급')  # 후 선 양식\n",
        "ts.add('고급', '중급')  \n",
        "\n",
        "# 규칙2\n",
        "ts.add('문법', '중급')  \n",
        "ts.add('고급', '문법')  \n",
        "\n",
        "# 규칙3\n",
        "ts.add('회화', '문법')  \n",
        "\n",
        "# 단 여기에 사이클이 돌지 않도록 하는 것이 중요하다.\n",
        "\n",
        "print(list(ts.static_order())) "
      ],
      "metadata": {
        "id": "ZOMs1pnY9cz6"
      },
      "execution_count": null,
      "outputs": []
    }
  ]
}